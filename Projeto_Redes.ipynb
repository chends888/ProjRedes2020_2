{
 "cells": [
  {
   "cell_type": "markdown",
   "metadata": {},
   "source": [
    "## Projeto de Redes Sociais"
   ]
  },
  {
   "cell_type": "code",
   "execution_count": 33,
   "metadata": {},
   "outputs": [],
   "source": [
    "import freeman as fm\n",
    "import pandas as pd\n",
    "from unidecode import unidecode"
   ]
  },
  {
   "cell_type": "code",
   "execution_count": 23,
   "metadata": {},
   "outputs": [
    {
     "name": "stderr",
     "output_type": "stream",
     "text": [
      "C:\\Users\\lchen\\anaconda3\\lib\\site-packages\\IPython\\core\\interactiveshell.py:3071: DtypeWarning:\n",
      "\n",
      "Columns (4) have mixed types.Specify dtype option on import or set low_memory=False.\n",
      "\n"
     ]
    }
   ],
   "source": [
    "athletes = pd.read_csv('data/crossfit/2019_opens_athletes.csv')"
   ]
  },
  {
   "cell_type": "code",
   "execution_count": 7,
   "metadata": {},
   "outputs": [],
   "source": [
    "scores = pd.read_csv('data/crossfit/2019_opens_scores.csv')"
   ]
  },
  {
   "cell_type": "code",
   "execution_count": 26,
   "metadata": {},
   "outputs": [],
   "source": [
    "athletes = athletes.dropna(subset=['affiliateid', 'affiliatename'])\n",
    "\n",
    "gyms = {}\n",
    "for _, row in athletes.iterrows():\n",
    "    if (row['affiliateid'] in gyms.keys()):\n",
    "        if (gyms[row['affiliateid']] != row['affiliatename']):\n",
    "            print('Duplicate', gyms[row['affiliateid']], row['affiliatename'])\n",
    "    gyms[row['affiliateid']] = row['affiliatename']"
   ]
  },
  {
   "cell_type": "code",
   "execution_count": 38,
   "metadata": {},
   "outputs": [],
   "source": [
    "tmp = 'graph [\\n  directed 0\\n'\n",
    "\n",
    "for key, value in gyms.items():\n",
    "    tmp += '  node [\\n    id ' + str(key) + '\\n    affiliate_name \"' + unidecode(value) + '\"\\n  ]\\n'\n",
    "\n",
    "tmp += ']'\n",
    "filename = 'data/gyms.gml'\n",
    "with open(filename, 'w') as f:\n",
    "    f.write(tmp)"
   ]
  },
  {
   "cell_type": "code",
   "execution_count": 39,
   "metadata": {},
   "outputs": [],
   "source": [
    "g = fm.load('data/gyms.gml')"
   ]
  },
  {
   "cell_type": "code",
   "execution_count": null,
   "metadata": {},
   "outputs": [],
   "source": []
  }
 ],
 "metadata": {
  "kernelspec": {
   "display_name": "Python 3",
   "language": "python",
   "name": "python3"
  },
  "language_info": {
   "codemirror_mode": {
    "name": "ipython",
    "version": 3
   },
   "file_extension": ".py",
   "mimetype": "text/x-python",
   "name": "python",
   "nbconvert_exporter": "python",
   "pygments_lexer": "ipython3",
   "version": "3.8.3"
  }
 },
 "nbformat": 4,
 "nbformat_minor": 4
}
