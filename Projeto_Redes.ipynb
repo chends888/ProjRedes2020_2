{
 "cells": [
  {
   "cell_type": "markdown",
   "metadata": {},
   "source": [
    "## Projeto de Redes Sociais"
   ]
  },
  {
   "cell_type": "code",
   "execution_count": 2,
   "metadata": {},
   "outputs": [
    {
     "data": {
      "text/html": [
       "        <script type=\"text/javascript\">\n",
       "        window.PlotlyConfig = {MathJaxConfig: 'local'};\n",
       "        if (window.MathJax) {MathJax.Hub.Config({SVG: {font: \"STIX-Web\"}});}\n",
       "        if (typeof require !== 'undefined') {\n",
       "        require.undef(\"plotly\");\n",
       "        requirejs.config({\n",
       "            paths: {\n",
       "                'plotly': ['https://cdn.plot.ly/plotly-latest.min']\n",
       "            }\n",
       "        });\n",
       "        require(['plotly'], function(Plotly) {\n",
       "            window._Plotly = Plotly;\n",
       "        });\n",
       "        }\n",
       "        </script>\n",
       "        "
      ]
     },
     "metadata": {},
     "output_type": "display_data"
    }
   ],
   "source": [
    "import freeman as fm\n",
    "import pandas as pd\n",
    "import seaborn as sns\n",
    "from unidecode import unidecode\n",
    "import math"
   ]
  },
  {
   "cell_type": "code",
   "execution_count": 3,
   "metadata": {},
   "outputs": [
    {
     "name": "stderr",
     "output_type": "stream",
     "text": [
      "C:\\Users\\lchen\\anaconda3\\lib\\site-packages\\IPython\\core\\interactiveshell.py:3071: DtypeWarning:\n",
      "\n",
      "Columns (4) have mixed types.Specify dtype option on import or set low_memory=False.\n",
      "\n"
     ]
    }
   ],
   "source": [
    "athletes = pd.read_csv('data/crossfit/2019_opens_athletes.csv')"
   ]
  },
  {
   "cell_type": "code",
   "execution_count": 4,
   "metadata": {},
   "outputs": [],
   "source": [
    "# scores = pd.read_csv('data/crossfit/2019_opens_scores.csv')"
   ]
  },
  {
   "cell_type": "code",
   "execution_count": 5,
   "metadata": {},
   "outputs": [],
   "source": [
    "athletes = athletes.dropna(subset=['affiliateid', 'affiliatename'])\n",
    "men = athletes[athletes['divisionid'] == 1]\n",
    "gyms = {}\n",
    "for _, row in men.iterrows():\n",
    "    if (row['affiliateid'] in gyms.keys()):\n",
    "        if (gyms[row['affiliateid']][0] != row['affiliatename']):\n",
    "            print('Duplicate', gyms[row['affiliateid']], row['affiliatename'])\n",
    "    gyms[row['affiliateid']] = [row['affiliatename']]"
   ]
  },
  {
   "cell_type": "code",
   "execution_count": 6,
   "metadata": {},
   "outputs": [],
   "source": [
    "for key, value in gyms.items():\n",
    "    gyms[key].append(men[men['affiliateid'] == key]['overallscore'].mean())"
   ]
  },
  {
   "cell_type": "code",
   "execution_count": 7,
   "metadata": {},
   "outputs": [],
   "source": [
    "# men = men.sort_values('overallscore')\n",
    "# mediana = men['overallscore'].median()"
   ]
  },
  {
   "cell_type": "code",
   "execution_count": 8,
   "metadata": {
    "scrolled": true
   },
   "outputs": [
    {
     "name": "stdout",
     "output_type": "stream",
     "text": [
      "406265.5\n"
     ]
    }
   ],
   "source": [
    "\n",
    "gyms = {k: v for k, v in sorted(gyms.items(), key=lambda item: item[1][1])}\n",
    "\n",
    "gyms_list = list(gyms.values())\n",
    "# gyms_list = [0, 1, 2, 3]\n",
    "if (len(gyms_list) % 2 == 0):\n",
    "    median = (gyms_list[int(len(gyms_list) / 2)][1] + gyms_list[int(len(gyms_list) / 2) - 1][1]) / 2\n",
    "else:\n",
    "    median = gyms_list[math.floor(len(gyms_list) / 2)][1]\n",
    "# print(math.trunc(len(gyms_list)/2))\n",
    "print(median)"
   ]
  },
  {
   "cell_type": "code",
   "execution_count": 20,
   "metadata": {
    "scrolled": true
   },
   "outputs": [
    {
     "name": "stdout",
     "output_type": "stream",
     "text": [
      "Progress: 100.0%\r"
     ]
    }
   ],
   "source": [
    "tmp = 'graph [\\n  directed 0\\n'\n",
    "\n",
    "for affiliateid, value in gyms.items():\n",
    "    tmp += '  node [\\n    id ' + str(affiliateid) + '\\n    affiliate_name \"' + unidecode(value[0]) + '\"\\n  ]\\n'\n",
    "\n",
    "i = 0\n",
    "for affiliateid, value in gyms.items():\n",
    "    percentage = round(i/len(gyms.items())*100, 2)\n",
    "    if (percentage % 0.5 == 0):\n",
    "        print('Progress: {}%'.format(percentage, ), end = '\\r')\n",
    "    for affiliate2id, value2 in gyms.items():\n",
    "        if ((affiliateid != affiliate2id) and (((value[1] + value2[1]) / 2) > median) ):\n",
    "#             tmp += '  edge [\\n    source \"' + str(affiliateid) +'\"\\n    target \"' + str(affiliate2id) +'\"\\n  ]\\n'\n",
    "            pass\n",
    "    i += 1\n",
    "print('Progress: {}%'.format(100.0), end = '\\r')\n",
    "tmp += ']'\n",
    "filename = 'data/gyms.gml'\n",
    "with open(filename, 'w') as f:\n",
    "    f.write(tmp)\n",
    "\n",
    "# g = fm.load('data/gyms.gml')"
   ]
  },
  {
   "cell_type": "code",
   "execution_count": null,
   "metadata": {},
   "outputs": [],
   "source": []
  },
  {
   "cell_type": "code",
   "execution_count": null,
   "metadata": {},
   "outputs": [],
   "source": []
  }
 ],
 "metadata": {
  "kernelspec": {
   "display_name": "Python 3",
   "language": "python",
   "name": "python3"
  },
  "language_info": {
   "codemirror_mode": {
    "name": "ipython",
    "version": 3
   },
   "file_extension": ".py",
   "mimetype": "text/x-python",
   "name": "python",
   "nbconvert_exporter": "python",
   "pygments_lexer": "ipython3",
   "version": "3.8.3"
  }
 },
 "nbformat": 4,
 "nbformat_minor": 4
}
